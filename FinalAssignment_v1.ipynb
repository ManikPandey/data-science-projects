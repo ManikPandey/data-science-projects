{
  "cells": [
    {
      "cell_type": "markdown",
      "metadata": {
        "id": "j8dp4CtMzXqG"
      },
      "source": [
        "Dataset Overview\n",
        "This is a synthetic dataset meticulously created for a regression task: predicting monthly electricity costs. It contains 10,000 data points and is characterized by its completeness and realism, with no missing or mismatched values. The dataset is well-suited for developing and evaluating machine learning models."
      ]
    },
    {
      "cell_type": "code",
      "execution_count": null,
      "metadata": {
        "colab": {
          "base_uri": "https://localhost:8080/"
        },
        "id": "LTRrEqRO0BtO",
        "outputId": "8d314e2b-fec2-4716-ea5c-95a524e2436d"
      },
      "outputs": [
        {
          "name": "stdout",
          "output_type": "stream",
          "text": [
            "Requirement already satisfied: pandas in /usr/local/lib/python3.11/dist-packages (2.2.2)\n",
            "Requirement already satisfied: numpy>=1.23.2 in /usr/local/lib/python3.11/dist-packages (from pandas) (2.0.2)\n",
            "Requirement already satisfied: python-dateutil>=2.8.2 in /usr/local/lib/python3.11/dist-packages (from pandas) (2.9.0.post0)\n",
            "Requirement already satisfied: pytz>=2020.1 in /usr/local/lib/python3.11/dist-packages (from pandas) (2025.2)\n",
            "Requirement already satisfied: tzdata>=2022.7 in /usr/local/lib/python3.11/dist-packages (from pandas) (2025.2)\n",
            "Requirement already satisfied: six>=1.5 in /usr/local/lib/python3.11/dist-packages (from python-dateutil>=2.8.2->pandas) (1.17.0)\n"
          ]
        }
      ],
      "source": [
        "!pip install pandas"
      ]
    },
    {
      "cell_type": "code",
      "execution_count": 15,
      "metadata": {
        "id": "l_lT8Mprz9ae"
      },
      "outputs": [],
      "source": [
        "# importing dependencies\n",
        "import pandas as pd\n",
        "import seaborn as sns\n",
        "import matplotlib.pyplot as plt\n",
        "import numpy as np\n",
        "from sklearn.model_selection import train_test_split\n",
        "from sklearn.preprocessing import StandardScaler, OneHotEncoder\n",
        "from sklearn.compose import ColumnTransformer\n",
        "from sklearn.pipeline import Pipeline\n",
        "from sklearn.linear_model import RidgeCV, LassoCV, ElasticNetCV\n",
        "from sklearn.metrics import mean_squared_error, r2_score"
      ]
    },
    {
      "cell_type": "markdown",
      "metadata": {
        "id": "lvEUD1v-zY6m"
      },
      "source": [
        "#Loading Data"
      ]
    },
    {
      "cell_type": "code",
      "execution_count": 10,
      "metadata": {
        "id": "13SQv1qN1xTr"
      },
      "outputs": [],
      "source": [
        "# loading dastset\n",
        "path = \"/content/electricity_cost_dataset.csv\"\n",
        "data = pd.read_csv(path)"
      ]
    },
    {
      "cell_type": "code",
      "execution_count": 11,
      "metadata": {
        "colab": {
          "base_uri": "https://localhost:8080/"
        },
        "id": "Gs6BnHM-zcIg",
        "outputId": "637a3ab0-d21c-4616-fb50-160b420ed5c1"
      },
      "outputs": [
        {
          "name": "stdout",
          "output_type": "stream",
          "text": [
            "   site area structure type  water consumption  recycling rate  \\\n",
            "0       1360      Mixed-use             2519.0              69   \n",
            "1       4272      Mixed-use             2324.0              50   \n",
            "2       3592      Mixed-use             2701.0              20   \n",
            "3        966    Residential             1000.0              13   \n",
            "4       4926    Residential             5990.0              23   \n",
            "\n",
            "   utilisation rate  air qality index  issue reolution time  resident count  \\\n",
            "0                52               188                     1              72   \n",
            "1                76               165                    65             261   \n",
            "2                94               198                    39             117   \n",
            "3                60                74                     3              35   \n",
            "4                65                32                    57             185   \n",
            "\n",
            "   electricity cost  \n",
            "0            1420.0  \n",
            "1            3298.0  \n",
            "2            3115.0  \n",
            "3            1575.0  \n",
            "4            4301.0  \n"
          ]
        }
      ],
      "source": [
        "print(data.iloc[:5])"
      ]
    },
    {
      "cell_type": "code",
      "execution_count": 13,
      "metadata": {
        "colab": {
          "base_uri": "https://localhost:8080/"
        },
        "id": "ev2oF8dF3a1_",
        "outputId": "ec81a6dd-d322-41ae-bfa5-e43d81afb6be"
      },
      "outputs": [
        {
          "name": "stdout",
          "output_type": "stream",
          "text": [
            "<class 'pandas.core.frame.DataFrame'>\n",
            "RangeIndex: 10000 entries, 0 to 9999\n",
            "Data columns (total 9 columns):\n",
            " #   Column                Non-Null Count  Dtype  \n",
            "---  ------                --------------  -----  \n",
            " 0   site area             10000 non-null  int64  \n",
            " 1   structure type        10000 non-null  object \n",
            " 2   water consumption     10000 non-null  float64\n",
            " 3   recycling rate        10000 non-null  int64  \n",
            " 4   utilisation rate      10000 non-null  int64  \n",
            " 5   air qality index      10000 non-null  int64  \n",
            " 6   issue reolution time  10000 non-null  int64  \n",
            " 7   resident count        10000 non-null  int64  \n",
            " 8   electricity cost      10000 non-null  float64\n",
            "dtypes: float64(2), int64(6), object(1)\n",
            "memory usage: 703.3+ KB\n"
          ]
        }
      ],
      "source": [
        "data.info()"
      ]
    },
    {
      "cell_type": "code",
      "execution_count": 12,
      "metadata": {
        "colab": {
          "base_uri": "https://localhost:8080/",
          "height": 317
        },
        "id": "vAKoOyCk3W1t",
        "outputId": "324bf8aa-d909-41e8-f6fb-a1d0ead8c7aa"
      },
      "outputs": [
        {
          "data": {
            "application/vnd.google.colaboratory.intrinsic+json": {
              "summary": "{\n  \"name\": \"data\",\n  \"rows\": 8,\n  \"fields\": [\n    {\n      \"column\": \"site area\",\n      \"properties\": {\n        \"dtype\": \"number\",\n        \"std\": 3002.3475597201286,\n        \"min\": 501.0,\n        \"max\": 10000.0,\n        \"num_unique_values\": 8,\n        \"samples\": [\n          2757.7751,\n          2773.5,\n          10000.0\n        ],\n        \"semantic_type\": \"\",\n        \"description\": \"\"\n      }\n    },\n    {\n      \"column\": \"water consumption\",\n      \"properties\": {\n        \"dtype\": \"number\",\n        \"std\": 3774.5131182048253,\n        \"min\": 1000.0,\n        \"max\": 10894.0,\n        \"num_unique_values\": 8,\n        \"samples\": [\n          3494.0571,\n          3047.5,\n          10000.0\n        ],\n        \"semantic_type\": \"\",\n        \"description\": \"\"\n      }\n    },\n    {\n      \"column\": \"recycling rate\",\n      \"properties\": {\n        \"dtype\": \"number\",\n        \"std\": 3519.375086520984,\n        \"min\": 10.0,\n        \"max\": 10000.0,\n        \"num_unique_values\": 8,\n        \"samples\": [\n          49.598,\n          49.0,\n          10000.0\n        ],\n        \"semantic_type\": \"\",\n        \"description\": \"\"\n      }\n    },\n    {\n      \"column\": \"utilisation rate\",\n      \"properties\": {\n        \"dtype\": \"number\",\n        \"std\": 3514.909395116387,\n        \"min\": 20.43296478157243,\n        \"max\": 10000.0,\n        \"num_unique_values\": 8,\n        \"samples\": [\n          64.8422,\n          65.0,\n          10000.0\n        ],\n        \"semantic_type\": \"\",\n        \"description\": \"\"\n      }\n    },\n    {\n      \"column\": \"air qality index\",\n      \"properties\": {\n        \"dtype\": \"number\",\n        \"std\": 3502.9188158234288,\n        \"min\": 0.0,\n        \"max\": 10000.0,\n        \"num_unique_values\": 8,\n        \"samples\": [\n          99.4686,\n          100.0,\n          10000.0\n        ],\n        \"semantic_type\": \"\",\n        \"description\": \"\"\n      }\n    },\n    {\n      \"column\": \"issue reolution time\",\n      \"properties\": {\n        \"dtype\": \"number\",\n        \"std\": 3523.529085693018,\n        \"min\": 1.0,\n        \"max\": 10000.0,\n        \"num_unique_values\": 8,\n        \"samples\": [\n          36.4026,\n          36.0,\n          10000.0\n        ],\n        \"semantic_type\": \"\",\n        \"description\": \"\"\n      }\n    },\n    {\n      \"column\": \"resident count\",\n      \"properties\": {\n        \"dtype\": \"number\",\n        \"std\": 3495.4654246794316,\n        \"min\": 0.0,\n        \"max\": 10000.0,\n        \"num_unique_values\": 7,\n        \"samples\": [\n          10000.0,\n          85.5731,\n          142.0\n        ],\n        \"semantic_type\": \"\",\n        \"description\": \"\"\n      }\n    },\n    {\n      \"column\": \"electricity cost\",\n      \"properties\": {\n        \"dtype\": \"number\",\n        \"std\": 3136.370606983047,\n        \"min\": 500.0,\n        \"max\": 10000.0,\n        \"num_unique_values\": 8,\n        \"samples\": [\n          2837.845,\n          2760.0,\n          10000.0\n        ],\n        \"semantic_type\": \"\",\n        \"description\": \"\"\n      }\n    }\n  ]\n}",
              "type": "dataframe"
            },
            "text/html": [
              "\n",
              "  <div id=\"df-7c6468da-49da-4aca-a6e3-1e88ed6038da\" class=\"colab-df-container\">\n",
              "    <div>\n",
              "<style scoped>\n",
              "    .dataframe tbody tr th:only-of-type {\n",
              "        vertical-align: middle;\n",
              "    }\n",
              "\n",
              "    .dataframe tbody tr th {\n",
              "        vertical-align: top;\n",
              "    }\n",
              "\n",
              "    .dataframe thead th {\n",
              "        text-align: right;\n",
              "    }\n",
              "</style>\n",
              "<table border=\"1\" class=\"dataframe\">\n",
              "  <thead>\n",
              "    <tr style=\"text-align: right;\">\n",
              "      <th></th>\n",
              "      <th>site area</th>\n",
              "      <th>water consumption</th>\n",
              "      <th>recycling rate</th>\n",
              "      <th>utilisation rate</th>\n",
              "      <th>air qality index</th>\n",
              "      <th>issue reolution time</th>\n",
              "      <th>resident count</th>\n",
              "      <th>electricity cost</th>\n",
              "    </tr>\n",
              "  </thead>\n",
              "  <tbody>\n",
              "    <tr>\n",
              "      <th>count</th>\n",
              "      <td>10000.000000</td>\n",
              "      <td>10000.000000</td>\n",
              "      <td>10000.000000</td>\n",
              "      <td>10000.000000</td>\n",
              "      <td>10000.000000</td>\n",
              "      <td>10000.000000</td>\n",
              "      <td>10000.000000</td>\n",
              "      <td>10000.000000</td>\n",
              "    </tr>\n",
              "    <tr>\n",
              "      <th>mean</th>\n",
              "      <td>2757.775100</td>\n",
              "      <td>3494.057100</td>\n",
              "      <td>49.598000</td>\n",
              "      <td>64.842200</td>\n",
              "      <td>99.468600</td>\n",
              "      <td>36.402600</td>\n",
              "      <td>85.573100</td>\n",
              "      <td>2837.845000</td>\n",
              "    </tr>\n",
              "    <tr>\n",
              "      <th>std</th>\n",
              "      <td>1293.059959</td>\n",
              "      <td>2076.181117</td>\n",
              "      <td>23.430141</td>\n",
              "      <td>20.432965</td>\n",
              "      <td>58.014526</td>\n",
              "      <td>20.623905</td>\n",
              "      <td>107.876179</td>\n",
              "      <td>1106.997441</td>\n",
              "    </tr>\n",
              "    <tr>\n",
              "      <th>min</th>\n",
              "      <td>501.000000</td>\n",
              "      <td>1000.000000</td>\n",
              "      <td>10.000000</td>\n",
              "      <td>30.000000</td>\n",
              "      <td>0.000000</td>\n",
              "      <td>1.000000</td>\n",
              "      <td>0.000000</td>\n",
              "      <td>500.000000</td>\n",
              "    </tr>\n",
              "    <tr>\n",
              "      <th>25%</th>\n",
              "      <td>1624.000000</td>\n",
              "      <td>1779.000000</td>\n",
              "      <td>29.750000</td>\n",
              "      <td>47.000000</td>\n",
              "      <td>49.000000</td>\n",
              "      <td>19.000000</td>\n",
              "      <td>0.000000</td>\n",
              "      <td>1954.000000</td>\n",
              "    </tr>\n",
              "    <tr>\n",
              "      <th>50%</th>\n",
              "      <td>2773.500000</td>\n",
              "      <td>3047.500000</td>\n",
              "      <td>49.000000</td>\n",
              "      <td>65.000000</td>\n",
              "      <td>100.000000</td>\n",
              "      <td>36.000000</td>\n",
              "      <td>39.000000</td>\n",
              "      <td>2760.000000</td>\n",
              "    </tr>\n",
              "    <tr>\n",
              "      <th>75%</th>\n",
              "      <td>3874.000000</td>\n",
              "      <td>4811.000000</td>\n",
              "      <td>70.000000</td>\n",
              "      <td>83.000000</td>\n",
              "      <td>150.000000</td>\n",
              "      <td>54.000000</td>\n",
              "      <td>142.000000</td>\n",
              "      <td>3632.000000</td>\n",
              "    </tr>\n",
              "    <tr>\n",
              "      <th>max</th>\n",
              "      <td>5000.000000</td>\n",
              "      <td>10894.000000</td>\n",
              "      <td>90.000000</td>\n",
              "      <td>100.000000</td>\n",
              "      <td>200.000000</td>\n",
              "      <td>72.000000</td>\n",
              "      <td>489.000000</td>\n",
              "      <td>6446.000000</td>\n",
              "    </tr>\n",
              "  </tbody>\n",
              "</table>\n",
              "</div>\n",
              "    <div class=\"colab-df-buttons\">\n",
              "\n",
              "  <div class=\"colab-df-container\">\n",
              "    <button class=\"colab-df-convert\" onclick=\"convertToInteractive('df-7c6468da-49da-4aca-a6e3-1e88ed6038da')\"\n",
              "            title=\"Convert this dataframe to an interactive table.\"\n",
              "            style=\"display:none;\">\n",
              "\n",
              "  <svg xmlns=\"http://www.w3.org/2000/svg\" height=\"24px\" viewBox=\"0 -960 960 960\">\n",
              "    <path d=\"M120-120v-720h720v720H120Zm60-500h600v-160H180v160Zm220 220h160v-160H400v160Zm0 220h160v-160H400v160ZM180-400h160v-160H180v160Zm440 0h160v-160H620v160ZM180-180h160v-160H180v160Zm440 0h160v-160H620v160Z\"/>\n",
              "  </svg>\n",
              "    </button>\n",
              "\n",
              "  <style>\n",
              "    .colab-df-container {\n",
              "      display:flex;\n",
              "      gap: 12px;\n",
              "    }\n",
              "\n",
              "    .colab-df-convert {\n",
              "      background-color: #E8F0FE;\n",
              "      border: none;\n",
              "      border-radius: 50%;\n",
              "      cursor: pointer;\n",
              "      display: none;\n",
              "      fill: #1967D2;\n",
              "      height: 32px;\n",
              "      padding: 0 0 0 0;\n",
              "      width: 32px;\n",
              "    }\n",
              "\n",
              "    .colab-df-convert:hover {\n",
              "      background-color: #E2EBFA;\n",
              "      box-shadow: 0px 1px 2px rgba(60, 64, 67, 0.3), 0px 1px 3px 1px rgba(60, 64, 67, 0.15);\n",
              "      fill: #174EA6;\n",
              "    }\n",
              "\n",
              "    .colab-df-buttons div {\n",
              "      margin-bottom: 4px;\n",
              "    }\n",
              "\n",
              "    [theme=dark] .colab-df-convert {\n",
              "      background-color: #3B4455;\n",
              "      fill: #D2E3FC;\n",
              "    }\n",
              "\n",
              "    [theme=dark] .colab-df-convert:hover {\n",
              "      background-color: #434B5C;\n",
              "      box-shadow: 0px 1px 3px 1px rgba(0, 0, 0, 0.15);\n",
              "      filter: drop-shadow(0px 1px 2px rgba(0, 0, 0, 0.3));\n",
              "      fill: #FFFFFF;\n",
              "    }\n",
              "  </style>\n",
              "\n",
              "    <script>\n",
              "      const buttonEl =\n",
              "        document.querySelector('#df-7c6468da-49da-4aca-a6e3-1e88ed6038da button.colab-df-convert');\n",
              "      buttonEl.style.display =\n",
              "        google.colab.kernel.accessAllowed ? 'block' : 'none';\n",
              "\n",
              "      async function convertToInteractive(key) {\n",
              "        const element = document.querySelector('#df-7c6468da-49da-4aca-a6e3-1e88ed6038da');\n",
              "        const dataTable =\n",
              "          await google.colab.kernel.invokeFunction('convertToInteractive',\n",
              "                                                    [key], {});\n",
              "        if (!dataTable) return;\n",
              "\n",
              "        const docLinkHtml = 'Like what you see? Visit the ' +\n",
              "          '<a target=\"_blank\" href=https://colab.research.google.com/notebooks/data_table.ipynb>data table notebook</a>'\n",
              "          + ' to learn more about interactive tables.';\n",
              "        element.innerHTML = '';\n",
              "        dataTable['output_type'] = 'display_data';\n",
              "        await google.colab.output.renderOutput(dataTable, element);\n",
              "        const docLink = document.createElement('div');\n",
              "        docLink.innerHTML = docLinkHtml;\n",
              "        element.appendChild(docLink);\n",
              "      }\n",
              "    </script>\n",
              "  </div>\n",
              "\n",
              "\n",
              "    <div id=\"df-c9483668-2b2e-4d0c-81d3-890fa0e8f8c3\">\n",
              "      <button class=\"colab-df-quickchart\" onclick=\"quickchart('df-c9483668-2b2e-4d0c-81d3-890fa0e8f8c3')\"\n",
              "                title=\"Suggest charts\"\n",
              "                style=\"display:none;\">\n",
              "\n",
              "<svg xmlns=\"http://www.w3.org/2000/svg\" height=\"24px\"viewBox=\"0 0 24 24\"\n",
              "     width=\"24px\">\n",
              "    <g>\n",
              "        <path d=\"M19 3H5c-1.1 0-2 .9-2 2v14c0 1.1.9 2 2 2h14c1.1 0 2-.9 2-2V5c0-1.1-.9-2-2-2zM9 17H7v-7h2v7zm4 0h-2V7h2v10zm4 0h-2v-4h2v4z\"/>\n",
              "    </g>\n",
              "</svg>\n",
              "      </button>\n",
              "\n",
              "<style>\n",
              "  .colab-df-quickchart {\n",
              "      --bg-color: #E8F0FE;\n",
              "      --fill-color: #1967D2;\n",
              "      --hover-bg-color: #E2EBFA;\n",
              "      --hover-fill-color: #174EA6;\n",
              "      --disabled-fill-color: #AAA;\n",
              "      --disabled-bg-color: #DDD;\n",
              "  }\n",
              "\n",
              "  [theme=dark] .colab-df-quickchart {\n",
              "      --bg-color: #3B4455;\n",
              "      --fill-color: #D2E3FC;\n",
              "      --hover-bg-color: #434B5C;\n",
              "      --hover-fill-color: #FFFFFF;\n",
              "      --disabled-bg-color: #3B4455;\n",
              "      --disabled-fill-color: #666;\n",
              "  }\n",
              "\n",
              "  .colab-df-quickchart {\n",
              "    background-color: var(--bg-color);\n",
              "    border: none;\n",
              "    border-radius: 50%;\n",
              "    cursor: pointer;\n",
              "    display: none;\n",
              "    fill: var(--fill-color);\n",
              "    height: 32px;\n",
              "    padding: 0;\n",
              "    width: 32px;\n",
              "  }\n",
              "\n",
              "  .colab-df-quickchart:hover {\n",
              "    background-color: var(--hover-bg-color);\n",
              "    box-shadow: 0 1px 2px rgba(60, 64, 67, 0.3), 0 1px 3px 1px rgba(60, 64, 67, 0.15);\n",
              "    fill: var(--button-hover-fill-color);\n",
              "  }\n",
              "\n",
              "  .colab-df-quickchart-complete:disabled,\n",
              "  .colab-df-quickchart-complete:disabled:hover {\n",
              "    background-color: var(--disabled-bg-color);\n",
              "    fill: var(--disabled-fill-color);\n",
              "    box-shadow: none;\n",
              "  }\n",
              "\n",
              "  .colab-df-spinner {\n",
              "    border: 2px solid var(--fill-color);\n",
              "    border-color: transparent;\n",
              "    border-bottom-color: var(--fill-color);\n",
              "    animation:\n",
              "      spin 1s steps(1) infinite;\n",
              "  }\n",
              "\n",
              "  @keyframes spin {\n",
              "    0% {\n",
              "      border-color: transparent;\n",
              "      border-bottom-color: var(--fill-color);\n",
              "      border-left-color: var(--fill-color);\n",
              "    }\n",
              "    20% {\n",
              "      border-color: transparent;\n",
              "      border-left-color: var(--fill-color);\n",
              "      border-top-color: var(--fill-color);\n",
              "    }\n",
              "    30% {\n",
              "      border-color: transparent;\n",
              "      border-left-color: var(--fill-color);\n",
              "      border-top-color: var(--fill-color);\n",
              "      border-right-color: var(--fill-color);\n",
              "    }\n",
              "    40% {\n",
              "      border-color: transparent;\n",
              "      border-right-color: var(--fill-color);\n",
              "      border-top-color: var(--fill-color);\n",
              "    }\n",
              "    60% {\n",
              "      border-color: transparent;\n",
              "      border-right-color: var(--fill-color);\n",
              "    }\n",
              "    80% {\n",
              "      border-color: transparent;\n",
              "      border-right-color: var(--fill-color);\n",
              "      border-bottom-color: var(--fill-color);\n",
              "    }\n",
              "    90% {\n",
              "      border-color: transparent;\n",
              "      border-bottom-color: var(--fill-color);\n",
              "    }\n",
              "  }\n",
              "</style>\n",
              "\n",
              "      <script>\n",
              "        async function quickchart(key) {\n",
              "          const quickchartButtonEl =\n",
              "            document.querySelector('#' + key + ' button');\n",
              "          quickchartButtonEl.disabled = true;  // To prevent multiple clicks.\n",
              "          quickchartButtonEl.classList.add('colab-df-spinner');\n",
              "          try {\n",
              "            const charts = await google.colab.kernel.invokeFunction(\n",
              "                'suggestCharts', [key], {});\n",
              "          } catch (error) {\n",
              "            console.error('Error during call to suggestCharts:', error);\n",
              "          }\n",
              "          quickchartButtonEl.classList.remove('colab-df-spinner');\n",
              "          quickchartButtonEl.classList.add('colab-df-quickchart-complete');\n",
              "        }\n",
              "        (() => {\n",
              "          let quickchartButtonEl =\n",
              "            document.querySelector('#df-c9483668-2b2e-4d0c-81d3-890fa0e8f8c3 button');\n",
              "          quickchartButtonEl.style.display =\n",
              "            google.colab.kernel.accessAllowed ? 'block' : 'none';\n",
              "        })();\n",
              "      </script>\n",
              "    </div>\n",
              "\n",
              "    </div>\n",
              "  </div>\n"
            ],
            "text/plain": [
              "          site area  water consumption  recycling rate  utilisation rate  \\\n",
              "count  10000.000000       10000.000000    10000.000000      10000.000000   \n",
              "mean    2757.775100        3494.057100       49.598000         64.842200   \n",
              "std     1293.059959        2076.181117       23.430141         20.432965   \n",
              "min      501.000000        1000.000000       10.000000         30.000000   \n",
              "25%     1624.000000        1779.000000       29.750000         47.000000   \n",
              "50%     2773.500000        3047.500000       49.000000         65.000000   \n",
              "75%     3874.000000        4811.000000       70.000000         83.000000   \n",
              "max     5000.000000       10894.000000       90.000000        100.000000   \n",
              "\n",
              "       air qality index  issue reolution time  resident count  \\\n",
              "count      10000.000000          10000.000000    10000.000000   \n",
              "mean          99.468600             36.402600       85.573100   \n",
              "std           58.014526             20.623905      107.876179   \n",
              "min            0.000000              1.000000        0.000000   \n",
              "25%           49.000000             19.000000        0.000000   \n",
              "50%          100.000000             36.000000       39.000000   \n",
              "75%          150.000000             54.000000      142.000000   \n",
              "max          200.000000             72.000000      489.000000   \n",
              "\n",
              "       electricity cost  \n",
              "count      10000.000000  \n",
              "mean        2837.845000  \n",
              "std         1106.997441  \n",
              "min          500.000000  \n",
              "25%         1954.000000  \n",
              "50%         2760.000000  \n",
              "75%         3632.000000  \n",
              "max         6446.000000  "
            ]
          },
          "execution_count": 12,
          "metadata": {},
          "output_type": "execute_result"
        }
      ],
      "source": [
        "data.describe()"
      ]
    },
    {
      "cell_type": "code",
      "execution_count": 17,
      "metadata": {
        "id": "DITQwSMN7XsQ"
      },
      "outputs": [],
      "source": [
        "df = data.copy()"
      ]
    },
    {
      "cell_type": "code",
      "execution_count": 19,
      "metadata": {
        "colab": {
          "base_uri": "https://localhost:8080/"
        },
        "id": "GNVhlpVT7WH7",
        "outputId": "d1b05fa7-ddeb-4507-fbae-ca0382ce0599"
      },
      "outputs": [
        {
          "name": "stdout",
          "output_type": "stream",
          "text": [
            "\n",
            "Checking for null values...\n",
            "No null values found.\n"
          ]
        }
      ],
      "source": [
        "# Check for and report null values\n",
        "print(\"\\nChecking for null values...\")\n",
        "if df.isnull().sum().sum() == 0:\n",
        "    print(\"No null values found.\")\n",
        "else:\n",
        "    print(\"Null values found:\")\n",
        "    print(df.isnull().sum())"
      ]
    },
    {
      "cell_type": "markdown",
      "metadata": {
        "id": "oF9vt8KZ34rz"
      },
      "source": [
        "## 1. **Data Summary**\n",
        "- Dataset Size and Quality: The dataset contains a total of 10,000 entries and 9 columns. It is a clean and complete dataset, with no missing or null values in any of the columns, which makes it ideal for immediate use in modeling. The memory usage is approximately 703.3 KB.\n",
        "\n",
        "- Key Feature Variables: There are eight feature variables. This includes one categorical (object) `feature, structure type, and seven numerical features like site area, water consumption, utilisation rate, and resident count.` These features provide a mix of information about the physical, operational, and environmental characteristics of each site.\n",
        "\n",
        "- Target Variable: The target variable for this analysis is `electricity cost`. It is a continuous numerical variable (a float data type) and represents the monthly electricity expenditure in USD. All eight feature variables will be used to predict this outcome."
      ]
    },
    {
      "cell_type": "code",
      "execution_count": 22,
      "metadata": {
        "id": "4aMrDIYC7i5T"
      },
      "outputs": [],
      "source": [
        "# breaking down feature and target varialbes\n",
        "# Define the features (X) and the target (y)\n",
        "X = df.drop('electricity cost', axis=1)\n",
        "y = df['electricity cost']"
      ]
    },
    {
      "cell_type": "code",
      "execution_count": 24,
      "metadata": {
        "colab": {
          "base_uri": "https://localhost:8080/"
        },
        "id": "EH93PvNQ75bf",
        "outputId": "da5b150c-3a28-4683-f9a1-8b43ae80f1f8"
      },
      "outputs": [
        {
          "name": "stdout",
          "output_type": "stream",
          "text": [
            "Identified 7 numerical features: ['site area', 'water consumption', 'recycling rate', 'utilisation rate', 'air qality index', 'issue reolution time', 'resident count']\n",
            "Identified 1 categorical features: ['structure type']\n"
          ]
        }
      ],
      "source": [
        "# Identify categorical and numerical features automatically\n",
        "categorical_features = X.select_dtypes(include=['object', 'category']).columns.tolist()\n",
        "numerical_features = X.select_dtypes(include=np.number).columns.tolist()\n",
        "print(f\"Identified {len(numerical_features)} numerical features: {numerical_features}\")\n",
        "print(f\"Identified {len(categorical_features)} categorical features: {categorical_features}\")\n"
      ]
    },
    {
      "cell_type": "markdown",
      "metadata": {
        "id": "d31I6O-m4qaO"
      },
      "source": [
        "## 2. Objective of the Analysis\n",
        "The primary objective of this analysis is to develop a predictive model that accurately estimates the monthly electricity cost based on the site's characteristics and operational metrics. A secondary goal is to identify and quantify the key drivers of electricity cost, determining which factors have the most significant impact on energy expenditure."
      ]
    },
    {
      "cell_type": "code",
      "execution_count": 26,
      "metadata": {
        "id": "8wvUI-AK4pnD"
      },
      "outputs": [],
      "source": [
        "# pre processing of data scaling and hot encoding\n",
        "preprocessor = ColumnTransformer(\n",
        "    transformers=[\n",
        "        ('num', StandardScaler(), numerical_features),\n",
        "        ('cat', OneHotEncoder(handle_unknown='ignore'), categorical_features)\n",
        "    ],\n",
        "    remainder='passthrough'\n",
        ")\n"
      ]
    },
    {
      "cell_type": "code",
      "execution_count": 27,
      "metadata": {
        "colab": {
          "base_uri": "https://localhost:8080/"
        },
        "id": "zLRNhqbH8RJA",
        "outputId": "4e0d70bc-0f10-45f4-fc61-ad1a792ced3c"
      },
      "outputs": [
        {
          "name": "stdout",
          "output_type": "stream",
          "text": [
            "Data split into training (7500 samples) and testing (2500 samples) sets.\n"
          ]
        }
      ],
      "source": [
        "#  train test split 75-25\n",
        "X_train, X_test, y_train, y_test = train_test_split(X, y, test_size=0.25, random_state=42)\n",
        "print(f\"Data split into training ({X_train.shape[0]} samples) and testing ({X_test.shape[0]} samples) sets.\")\n",
        "\n"
      ]
    },
    {
      "cell_type": "code",
      "execution_count": 28,
      "metadata": {
        "id": "Hssl-lcC8e7H"
      },
      "outputs": [],
      "source": [
        "# testing alphas for best accuracy\n",
        "alphas_to_test = np.logspace(-4, 2, 100)"
      ]
    },
    {
      "cell_type": "markdown",
      "metadata": {
        "id": "-WInGVNU8yRA"
      },
      "source": [
        "models to train `RigidCV` `LassoCV` and `ElasticNetCV`"
      ]
    },
    {
      "cell_type": "code",
      "execution_count": 36,
      "metadata": {
        "id": "mgIxxUtf8mc3"
      },
      "outputs": [],
      "source": [
        "models_to_train = {\n",
        "    \"RidgeCV\": RidgeCV(alphas=alphas_to_test),\n",
        "    \"LassoCV\": LassoCV(alphas=alphas_to_test, cv=5, max_iter=10000, random_state=42),\n",
        "    \"ElasticNetCV\": ElasticNetCV(alphas=alphas_to_test, l1_ratio=[.1, .5, .7, .9, .99], cv=5, max_iter=10000, random_state=42)\n",
        "}\n",
        "trained_models = {}\n"
      ]
    },
    {
      "cell_type": "code",
      "execution_count": 37,
      "metadata": {
        "colab": {
          "base_uri": "https://localhost:8080/"
        },
        "id": "tT1YYza989BQ",
        "outputId": "7636b251-f8cd-47d6-8f41-5dc8de17d8d9"
      },
      "outputs": [
        {
          "name": "stdout",
          "output_type": "stream",
          "text": [
            "Training RidgeCV...\n",
            "Training LassoCV...\n",
            "Training ElasticNetCV...\n"
          ]
        }
      ],
      "source": [
        "# Creating function to store all the information and train all the models\n",
        "for name, model in models_to_train.items():\n",
        "    print(f\"Training {name}...\")\n",
        "    pipeline = Pipeline(steps=[('preprocessor', preprocessor),\n",
        "                               ('regressor', model)])\n",
        "    pipeline.fit(X_train, y_train)\n",
        "\n",
        "    y_pred = pipeline.predict(X_test)\n",
        "\n",
        "    rmse = np.sqrt(mean_squared_error(y_test, y_pred))\n",
        "    r2 = r2_score(y_test, y_pred)\n",
        "\n",
        "    trained_models[name] = {\n",
        "        'model': pipeline,\n",
        "        'best_alpha': pipeline.named_steps['regressor'].alpha_,\n",
        "        'rmse': rmse,\n",
        "        'r_squared': r2\n",
        "    }\n",
        "    if name == \"ElasticNetCV\":\n",
        "         trained_models[name]['best_l1_ratio'] = pipeline.named_steps['regressor'].l1_ratio_\n"
      ]
    },
    {
      "cell_type": "code",
      "execution_count": 38,
      "metadata": {
        "id": "3f9ej43K9RWA"
      },
      "outputs": [],
      "source": [
        "best_model_name = None\n",
        "best_r2 = -np.inf"
      ]
    },
    {
      "cell_type": "code",
      "execution_count": 39,
      "metadata": {
        "colab": {
          "base_uri": "https://localhost:8080/"
        },
        "id": "Hu_h9NO_9Vln",
        "outputId": "e1760675-7251-43b2-be5e-2e12044b2acf"
      },
      "outputs": [
        {
          "name": "stdout",
          "output_type": "stream",
          "text": [
            "\n",
            "Model: RidgeCV\n",
            "  - Best Alpha Found: 0.2477\n",
            "  - RMSE on Test Set: 314.00\n",
            "  - R-squared on Test Set: 0.9199\n",
            "\n",
            "Model: LassoCV\n",
            "  - Best Alpha Found: 0.0705\n",
            "  - RMSE on Test Set: 313.99\n",
            "  - R-squared on Test Set: 0.9199\n",
            "\n",
            "Model: ElasticNetCV\n",
            "  - Best Alpha Found: 0.0152\n",
            "  - Best L1 Ratio Found: 0.99\n",
            "  - RMSE on Test Set: 313.99\n",
            "  - R-squared on Test Set: 0.9199\n"
          ]
        }
      ],
      "source": [
        "for name, results in trained_models.items():\n",
        "    print(f\"\\nModel: {name}\")\n",
        "    print(f\"  - Best Alpha Found: {results['best_alpha']:.4f}\")\n",
        "    if 'best_l1_ratio' in results:\n",
        "        print(f\"  - Best L1 Ratio Found: {results['best_l1_ratio']:.2f}\")\n",
        "    print(f\"  - RMSE on Test Set: {results['rmse']:.2f}\")\n",
        "    print(f\"  - R-squared on Test Set: {results['r_squared']:.4f}\")\n",
        "\n",
        "    # Determine the best model based on R-squared value\n",
        "    if results['r_squared'] > best_r2:\n",
        "        best_r2 = results['r_squared']\n",
        "        best_model_name = name"
      ]
    },
    {
      "cell_type": "code",
      "execution_count": 40,
      "metadata": {
        "colab": {
          "base_uri": "https://localhost:8080/"
        },
        "id": "DNh-30sH9cPv",
        "outputId": "5f8bc64f-5313-47ef-a5ca-a76a3ef23fe5"
      },
      "outputs": [
        {
          "name": "stdout",
          "output_type": "stream",
          "text": [
            "Best Performing Model: LassoCV with an R-squared of 0.9199\n"
          ]
        }
      ],
      "source": [
        "print(f\"Best Performing Model: {best_model_name} with an R-squared of {best_r2:.4f}\")"
      ]
    },
    {
      "cell_type": "markdown",
      "metadata": {
        "id": "pMkx483J-yYb"
      },
      "source": [
        "## 3.Model Comparison\n",
        "The analysis compared three powerful variations of linear regression: RidgeCV, LassoCV, and ElasticNetCV. All three models performed exceptionally well and delivered nearly identical, high-quality results.\n",
        "\n",
        "- Performance: Each model achieved an R-squared (R\n",
        "2\n",
        " ) value of approximately 0.92, which means they can successfully explain about 92% of the variance in electricity costs. This is an excellent score and indicates a very strong model fit.\n",
        "\n",
        "- Prediction Error: The Root Mean Squared Error (RMSE) for all models was around $314. This signifies that, on average, the models' predictions are off by about $314, which is a strong result given the range of electricity costs.\n",
        "\n",
        "- Model Selection: While all models are statistically equivalent in performance, LassoCV is the best choice.\n",
        "\n",
        "  - The ElasticNetCV model chose an L1 Ratio of 0.99, meaning it behaved almost identically to a Lasso model anyway.\n",
        "\n",
        "  - Lasso's key advantage is its ability to perform automatic feature selection by shrinking the coefficients of less important features to zero. This can result in a simpler, more interpretable model without sacrificing accuracy.\n",
        "\n",
        "Conclusion: The LassoCV model is selected as the best performer due to its high accuracy and built-in feature selection capabilities."
      ]
    },
    {
      "cell_type": "markdown",
      "metadata": {
        "id": "lvawCd5y_GRp"
      },
      "source": [
        "## 4. Key Findings\n",
        "The primary objective—to create an accurate predictive model—has been successfully achieved. To get meaningful insights into what drives electricity costs, we would need to inspect the coefficients of the trained LassoCV model. Since those were not in the shared results, here are the types of insights you would extract from them:\n",
        "\n",
        "- Identify Key Cost Drivers: By looking at the coefficients, you would see which features have the largest positive values. Features like `site_area, utilisation_rate`, and `water_consumption` would likely be the most significant drivers of higher `electricity costs`. The coefficient value tells you how much the cost is expected to increase for a one-unit increase in that feature.\n",
        "\n",
        "- Quantify Impact of Structure Type: The one-hot encoded `structure_type` features would have coefficients showing their cost relative to a baseline category. For instance, you could definitively say \"an Industrial site costs, on average, $X more per month than a Residential site, all else being equal.\"\n",
        "\n",
        "- Identify Unimportant Features: The `Lasso` model may have set the coefficient for one or more features to zero. If so, this is a key finding: it implies that those features have no significant predictive power in this model and can be ignored, leading to a simpler explanation of `electricity costs`."
      ]
    },
    {
      "cell_type": "markdown",
      "metadata": {
        "id": "iwBac2sE_lM_"
      },
      "source": [
        "## 5. Limitations:\n",
        "\n",
        "1. Linearity Assumption: The model assumes a linear relationship between features and cost. It has performed very well here, but it cannot capture more complex, non-linear patterns (e.g., the cost might rise exponentially with site area, not linearly).\n",
        "\n",
        "2. Synthetic Dataset: The model was trained on a synthetic, clean dataset. Its high performance may not directly translate to real-world data, which often contains noise, outliers, and unexpected correlations.\n",
        "\n",
        "3. No Interaction Effects: The model does not automatically account for interaction effects. For example, the impact of `resident_count` on cost might be much more significant in a `Residential` building than in a `Mixed-use` one.\n",
        "\n",
        "### Next Steps:\n",
        "\n",
        "1. Coefficient Analysis (Immediate Priority): The most crucial next step is to extract and analyze the feature coefficients from your trained LassoCV pipeline. This will unlock the \"Key Findings\" and explain the business logic behind the predictions.\n",
        "\n",
        "2. Test Non-Linear Models: To see if you can improve the RMSE further, you could train more complex, non-linear models like a Random Forest Regressor or a Gradient Boosting model (like XGBoost or LightGBM). These models can capture the non-linear relationships mentioned above.\n",
        "\n",
        "3. Error Analysis: Investigate the 2,500 predictions made on the test set. Where did the model make the biggest mistakes? Are there certain types of properties it struggles with? This analysis can provide valuable clues for future improvements."
      ]
    },
    {
      "cell_type": "markdown",
      "metadata": {
        "id": "9316595e-d114-4e30-8a9e-7d0429442bc6"
      },
      "source": [
        "Copyright @ IBM Corporation. All rights reserved.\n"
      ]
    }
  ],
  "metadata": {
    "colab": {
      "provenance": []
    },
    "kernelspec": {
      "display_name": "Python 3 (ipykernel)",
      "language": "python",
      "name": "python3"
    },
    "language_info": {
      "codemirror_mode": {
        "name": "ipython",
        "version": 3
      },
      "file_extension": ".py",
      "mimetype": "text/x-python",
      "name": "python",
      "nbconvert_exporter": "python",
      "pygments_lexer": "ipython3",
      "version": "3.12.8"
    },
    "prev_pub_hash": "9c22683913f8ca448d5398e8f650d831d71c0004162f9ca83962b547ed3dfda0"
  },
  "nbformat": 4,
  "nbformat_minor": 0
}
